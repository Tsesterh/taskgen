{
 "cells": [
  {
   "cell_type": "code",
   "execution_count": 29,
   "metadata": {},
   "outputs": [],
   "source": [
    "# Set up API key and do the necessary imports\n",
    "import os\n",
    "from taskgen import *\n",
    "\n",
    "#os.environ['OPENAI_API_KEY'] = \"\""
   ]
  },
  {
   "cell_type": "markdown",
   "metadata": {},
   "source": [
    "## DATA LOADING"
   ]
  },
  {
   "cell_type": "code",
   "execution_count": 30,
   "metadata": {},
   "outputs": [],
   "source": [
    "import json\n",
    "with open('train_data.jsonl', 'r') as file:\n",
    "    #selected_problems = json.load(file)\n",
    "\n",
    "    #the file consists of dictionaries, each being in one line. We read the file line by line and append the dictionaries to a list selected_problems\n",
    "    selected_problems = [json.loads(line) for line in file]\n",
    "\n",
    "\n",
    "# create a name for current experiment, taking day, month, year, hour, minute\n",
    "import datetime\n",
    "\n",
    "selected_problems = selected_problems[64:]\n",
    "\n",
    "now = datetime.datetime.now()\n",
    "experiment_name = now.strftime(\"%d_%m_%Y_%H_%M\")\n",
    "experiment_name = \"09_09_2024_11_52\"\n"
   ]
  },
  {
   "cell_type": "markdown",
   "metadata": {},
   "source": [
    "## TaskGen Agent And Functions "
   ]
  },
  {
   "cell_type": "code",
   "execution_count": 31,
   "metadata": {},
   "outputs": [],
   "source": [
    "\n",
    "def python_run_tool(code_snippet: str) -> str:\n",
    "    '''Runs code_snippet and outputs the result of all print statements'''\n",
    "    import sys\n",
    "    import io\n",
    "    import datetime\n",
    "    import dateutil\n",
    "    import sympy\n",
    "    import numpy as np\n",
    "    # Disable file access\n",
    "    def restricted_open(*args, **kwargs):\n",
    "        raise PermissionError(\"File access is restricted\")\n",
    "    \n",
    "    # Capture the output\n",
    "    old_stdout = sys.stdout\n",
    "    sys.stdout = io.StringIO()\n",
    "\n",
    "    try:\n",
    "        # Safe environment to execute the user code\n",
    "        allowed_globals = {\n",
    "            '__builtins__': {\n",
    "                'print': print,\n",
    "                'range': range,\n",
    "                'len': len,\n",
    "                'int': int,\n",
    "                'float': float,\n",
    "                'str': str,\n",
    "                'list': list,\n",
    "                'dict': dict,\n",
    "                'set': set,\n",
    "                'tuple': tuple,\n",
    "                'abs': abs,\n",
    "                'min': min,\n",
    "                'max': max,\n",
    "                'sum': sum,\n",
    "                'any': any,\n",
    "                'all': all,\n",
    "                'sorted': sorted,\n",
    "                'zip': zip,\n",
    "                'map': map,\n",
    "                'filter': filter,\n",
    "                '__import__': __import__,\n",
    "                'datetime': datetime, # Allow access to datetime module\n",
    "                'open': restricted_open,  # Override open to restrict file access\n",
    "                'sympy': sympy, \n",
    "                'dateutil:' : dateutil,               \n",
    "            }\n",
    "        }\n",
    "\n",
    "        safe_locals = {}\n",
    "\n",
    "        exec(code_snippet, allowed_globals, safe_locals)\n",
    "        output = sys.stdout.getvalue()\n",
    "    except Exception as e:\n",
    "        output = f\"Error: {e}\"\n",
    "    finally:\n",
    "        # Restore the original stdout\n",
    "        sys.stdout = old_stdout\n",
    "\n",
    "    return output\n",
    "\n",
    "python_generator_tool = Function('''Generate code based only on <instruction: str> without additional context.\n",
    "    Ensure that you define all variables and list out all imports.\n",
    "    You can only import the following modules: datetime, dateutil\n",
    "    You are not able to use the Equipped Functions using this tool.\n",
    "    Never use the function datetime.date.today() or datetime.datetime.now() as the tasks always give a static date, which does not depend on the current date.\n",
    "    Ensure the required output is a single print statement and only contains the date in the required format but never print anything else besides a date. For example: print(\"2014/01/01\").''',\n",
    "                                     output_format = {'Output Code': 'type: code'}, fn_name = 'python_generator_tool',model=\"gpt-4o\")\n",
    "\n",
    "\n",
    "\n",
    "python_debug_tool = Function('''Debugs Python Code and returns corrected code. Ensures the required output is a single print statement and only contains the date in the required format but never print anything else besides a date. For example: print(\"2014/01/01\").\n",
    "Instruction: <instruction: str>\n",
    "Current Code: <python_code: str>\n",
    "Error Message: <error_msg: str>''',\n",
    "                                 output_format = {'Thoughts': 'How to correct code', 'Corrected Code': 'type: code'}, fn_name = 'python_debug_tool',model=\"gpt-4o\")\n",
    "\n",
    "\n",
    "\n",
    "\n",
    "# Uses LLM to generate Code\n",
    "def python_generate_and_run_code_tool(shared_variables, instruction: str) -> str:\n",
    "    ''' Generates and runs code based on instruction. Returns 1) the result of all print statements in code, or error messages, and 2) the code '''\n",
    "    # from termcolor import colored\n",
    "    \n",
    "    # Append context to tool\n",
    "    if shared_variables and 'agent' in shared_variables:\n",
    "        instruction = f\"Context: {shared_variables['agent'].overall_task}\\nPrevious Subtasks: {shared_variables['agent'].subtasks_completed}\\nInstruction: {instruction}\"\n",
    "    # Generate Code\n",
    "    python_code = python_generator_tool(instruction)['Output Code']\n",
    "    \n",
    "    # Run and Debug Code\n",
    "    for _ in range(3):\n",
    "        output = python_run_tool(python_code)\n",
    "\n",
    "        if output[:5] == \"Error\":\n",
    "            debugged_code = python_debug_tool(instruction, python_code, output)\n",
    "            python_code = debugged_code['Corrected Code']\n",
    "\n",
    "        else:\n",
    "            break\n",
    "\n",
    "    #log the output and python code in a outputs.txt file\n",
    "    with open(f'{experiment_name}_outputs.txt', 'a') as file:\n",
    "        file.write(f\"New Experiment:\\nInstruction: {instruction}\\nOutput: {output}\\nPython Code: {python_code}\\n\\n\\n\")\n",
    "\n",
    "            \n",
    "    return output, python_code"
   ]
  },
  {
   "cell_type": "code",
   "execution_count": 32,
   "metadata": {},
   "outputs": [],
   "source": [
    "# Agent for Math Problem Solver\n",
    "\n",
    "agent = Agent('Date Problem Solver', \n",
    "'''You are an expert skilled in solving a wide range of date problems, being able to reason about correct dates and formats when given a tasdk. Your task is to analyze the given problem, break it down into manageable steps, and provide a comprehensive solution with clear, logical reasoning. Ensure that your explanations are thorough, using relevant principles. Importantly, present the final answer clearly and explicitly, such that no further calculations are required from the user. Please note: do not use any large language models to derive the solution, you are free to use the tools given to you for the solution like dateutil library; all steps should be manually explainable. When using code to solve the problem, only print out the final answer in its format, so e.g. 24/12/1976, no further text! You should only use code to solve the problem if it is necessary and should not be the primary method of solving the problem.\n",
    "''',model=\"gpt-4o\").assign_functions(\n",
    "    [python_generate_and_run_code_tool])\n",
    "\n",
    "\n",
    "# Assign the shared variables for agent so code tool can get context of the task\n",
    "agent.shared_variables['agent'] = agent\n"
   ]
  },
  {
   "cell_type": "markdown",
   "metadata": {},
   "source": [
    "### Example : Counting and Probability"
   ]
  },
  {
   "cell_type": "code",
   "execution_count": 33,
   "metadata": {},
   "outputs": [
    {
     "data": {
      "text/plain": [
       "'The first day of 2019 is a Tuesday, and today is the first Monday of 2019. What is the date one week from today in MM/DD/YYYY?'"
      ]
     },
     "execution_count": 33,
     "metadata": {},
     "output_type": "execute_result"
    }
   ],
   "source": [
    "example_prob = selected_problems[0]\n",
    "\n",
    "#with open(example_prob, 'r') as file:\n",
    "#    example_data = json.load(file)\n",
    "\n",
    "example_prob[\"question\"]"
   ]
  },
  {
   "cell_type": "markdown",
   "metadata": {},
   "source": [
    "#### Simple example of running the agent on the problem"
   ]
  },
  {
   "cell_type": "code",
   "execution_count": 34,
   "metadata": {},
   "outputs": [
    {
     "name": "stdout",
     "output_type": "stream",
     "text": [
      "\u001b[1m\u001b[30mObservation: The first day of 2019 is a Tuesday, and today is the first Monday of 2019. We need to find the date one week from today in MM/DD/YYYY format.\u001b[0m\n",
      "\u001b[1m\u001b[32mThoughts: To determine the date one week from today, we first need to identify the date of the first Monday of 2019. Then, we can add 7 days to this date to find the required date.\u001b[0m\n",
      "\u001b[1m\u001b[34mSubtask identified: Calculate the date of the first Monday of 2019.\u001b[0m\n",
      "Calling function python_generate_and_run_code_tool with parameters {'instruction': 'Calculate the date of the first Monday of 2019.'}\n",
      "> {'output_1': '01/08/2019\\n', 'output_2': 'import datetime\\n\\n# Given the first day of 2019 is a Tuesday\\nfirst_day_of_2019 = datetime.date(2019, 1, 1)\\n\\n# Calculate the first Monday of 2019\\nfirst_monday_of_2019 = first_day_of_2019 + datetime.timedelta(days=(7 - first_day_of_2019.weekday() + 1) % 7)\\n\\n# Calculate the date one week from the first Monday of 2019\\none_week_from_first_monday = first_monday_of_2019 + datetime.timedelta(weeks=1)\\n\\n# Print the date in MM/DD/YYYY format\\nprint(one_week_from_first_monday.strftime(\"%m/%d/%Y\"))'}\n",
      "\n",
      "\u001b[1m\u001b[30mObservation: The first Monday of 2019 has been calculated as 01/08/2019.\u001b[0m\n",
      "\u001b[1m\u001b[32mThoughts: To find the date one week from the first Monday of 2019, we need to add 7 days to 01/08/2019.\u001b[0m\n",
      "\u001b[1m\u001b[34mSubtask identified: Calculate the date one week from 01/08/2019 and print it in MM/DD/YYYY format.\u001b[0m\n",
      "Calling function python_generate_and_run_code_tool with parameters {'instruction': 'Calculate the date one week from 01/08/2019 and print it in MM/DD/YYYY format.'}\n",
      "> {'output_1': '01/15/2019\\n', 'output_2': 'import datetime\\n\\n# Given date\\ngiven_date = datetime.date(2019, 1, 8)\\n\\n# Calculate the date one week from the given date\\none_week_from_given_date = given_date + datetime.timedelta(weeks=1)\\n\\n# Print the date in MM/DD/YYYY format\\nprint(one_week_from_given_date.strftime(\"%m/%d/%Y\"))'}\n",
      "\n",
      "\u001b[1m\u001b[30mObservation: The first Monday of 2019 has been calculated as 01/08/2019. The date one week from 01/08/2019 has been calculated as 01/15/2019.\u001b[0m\n",
      "\u001b[1m\u001b[32mThoughts: The task requires the date one week from today, which is the first Monday of 2019. Since the first Monday of 2019 is 01/08/2019, the date one week from today has already been calculated as 01/15/2019.\u001b[0m\n",
      "\u001b[1m\u001b[34mSubtask identified: End Task\u001b[0m\n",
      "Task completed successfully!\n",
      "\n",
      "ID: 357: Prediction: 01/08/2019 - True Answer: #### 01/14/2019 - Correct: False\n",
      "\u001b[1m\u001b[30mObservation: The task requires determining the date a month ago from today in the format MM/DD/YYYY. The reference to May 6, 1992 being ten years ago is not directly relevant to the calculation.\u001b[0m\n",
      "\u001b[1m\u001b[32mThoughts: To find the date a month ago from today, I need to get the current date and then subtract one month from it. The result should be formatted as MM/DD/YYYY.\u001b[0m\n",
      "\u001b[1m\u001b[34mSubtask identified: Generate and run code to get the current date, subtract one month, and format the result as MM/DD/YYYY.\u001b[0m\n",
      "Calling function python_generate_and_run_code_tool with parameters {'instruction': 'Generate and run code to get the current date, subtract one month, and format the result as MM/DD/YYYY.'}\n",
      "> {'output_1': '08/09/2024\\n', 'output_2': 'from datetime import datetime\\nfrom dateutil.relativedelta import relativedelta\\n\\n# Get the current date\\ntoday = datetime.today()\\n\\n# Subtract one month\\none_month_ago = today - relativedelta(months=1)\\n\\n# Format the result as MM/DD/YYYY\\nformatted_date = one_month_ago.strftime(\"%m/%d/%Y\")\\n\\n# Print the result\\nprint(formatted_date)'}\n",
      "\n",
      "\u001b[1m\u001b[30mObservation: The current date has been determined to be 09/09/2024, and the date a month ago has been calculated as 08/09/2024.\u001b[0m\n",
      "\u001b[1m\u001b[32mThoughts: The task requires determining the date a month ago from the current date in the format MM/DD/YYYY. This has already been calculated.\u001b[0m\n",
      "\u001b[1m\u001b[34mSubtask identified: End Task\u001b[0m\n",
      "Task completed successfully!\n",
      "\n",
      "ID: 198: Prediction: 08/09/2024 - True Answer: #### 04/06/2002 - Correct: False\n"
     ]
    }
   ],
   "source": [
    "correct = False\n",
    "\n",
    "correct_tasks = []\n",
    "incorrect_tasks = []\n",
    "\n",
    "for example_prob in selected_problems:\n",
    "    agent.reset()    \n",
    "    soln = agent.run(example_prob[\"question\"])\n",
    "\n",
    "    # take prediction\n",
    "    try:\n",
    "        prediction = soln[0][\"output_1\"]\n",
    "    except:\n",
    "        prediction = \"Something went wrong. Got no output. #ERROR\"\n",
    "    #remove \\n and so on\n",
    "    prediction = prediction.replace(\"\\n\", \"\")\n",
    "\n",
    "    true_answer = example_prob[\"answer\"]\n",
    "    # remove \\n and so on\n",
    "    true_answer = true_answer.replace(\"\\n\", \"\")\n",
    "\n",
    "    correct = (prediction in true_answer)\n",
    "    print(f\"ID: {example_prob['id']}: Prediction: {prediction} - True Answer: {true_answer} - Correct: {correct}\")\n",
    "\n",
    "    #log this also in a file called log.txt\n",
    "    with open(f\"{experiment_name}_log.txt\", \"a\") as file:\n",
    "        file.write(f\"ID: {example_prob['id']}: Prediction: {prediction} - True Answer: {true_answer} - Correct: {correct }\\n\")\n",
    "\n",
    "    if correct:\n",
    "        correct_tasks.append(example_prob[\"id\"])\n",
    "    else:\n",
    "        incorrect_tasks.append(example_prob[\"id\"])\n"
   ]
  },
  {
   "cell_type": "code",
   "execution_count": 35,
   "metadata": {},
   "outputs": [
    {
     "data": {
      "text/plain": [
       "False"
      ]
     },
     "execution_count": 35,
     "metadata": {},
     "output_type": "execute_result"
    }
   ],
   "source": [
    "soln[0][\"output_1\"] in example_prob[\"answer\"]"
   ]
  },
  {
   "cell_type": "code",
   "execution_count": 37,
   "metadata": {},
   "outputs": [
    {
     "data": {
      "text/plain": [
       "69.11764705882352"
      ]
     },
     "execution_count": 37,
     "metadata": {},
     "output_type": "execute_result"
    }
   ],
   "source": [
    "def calculate_accuracy(log_file_path):\n",
    "    correct_count = 0\n",
    "    total_count = 0\n",
    "\n",
    "    with open(log_file_path, 'r') as file:\n",
    "        for line in file:\n",
    "            if \"Correct:\" in line:\n",
    "                total_count += 1\n",
    "                # Extract the value after \"Correct:\" and strip leading/trailing whitespaces\n",
    "                correct_value = line.split(\"Correct:\")[1].strip()\n",
    "                if correct_value == \"True\":\n",
    "                    correct_count += 1\n",
    "\n",
    "    # Calculate accuracy as a percentage\n",
    "    accuracy = (correct_count / total_count) * 100 if total_count > 0 else 0\n",
    "    return accuracy\n",
    "\n",
    "calculate_accuracy(f\"{experiment_name}_log.txt\")"
   ]
  }
 ],
 "metadata": {
  "kernelspec": {
   "display_name": "Python 3",
   "language": "python",
   "name": "python3"
  },
  "language_info": {
   "codemirror_mode": {
    "name": "ipython",
    "version": 3
   },
   "file_extension": ".py",
   "mimetype": "text/x-python",
   "name": "python",
   "nbconvert_exporter": "python",
   "pygments_lexer": "ipython3",
   "version": "3.9.19"
  }
 },
 "nbformat": 4,
 "nbformat_minor": 2
}
